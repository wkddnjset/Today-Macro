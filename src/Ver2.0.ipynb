{
 "cells": [
  {
   "cell_type": "code",
   "execution_count": 11,
   "metadata": {},
   "outputs": [],
   "source": [
    "from selenium import webdriver\n",
    "from selenium.webdriver.common.proxy import Proxy, ProxyType\n",
    "import time"
   ]
  },
  {
   "cell_type": "code",
   "execution_count": 4,
   "metadata": {},
   "outputs": [],
   "source": [
    "IP_list = open(\"./GigaIP(유료프록시).txt\", 'r').readlines()[2:]"
   ]
  },
  {
   "cell_type": "code",
   "execution_count": 8,
   "metadata": {},
   "outputs": [
    {
     "name": "stdout",
     "output_type": "stream",
     "text": [
      "접속할 페이지 URL을 입력해주세요 : https://www.naver.com/\n"
     ]
    }
   ],
   "source": [
    "url_page = input(\"접속할 페이지 URL을 입력해주세요 : \")"
   ]
  },
  {
   "cell_type": "code",
   "execution_count": 13,
   "metadata": {},
   "outputs": [
    {
     "name": "stdout",
     "output_type": "stream",
     "text": [
      "0번째 작업 완료..\n",
      "1번째 작업 완료..\n",
      "2번째 작업 완료..\n"
     ]
    }
   ],
   "source": [
    "for idx, ip in enumerate(IP_list[0:3]):\n",
    "    prox = Proxy()\n",
    "    prox.proxy_type = ProxyType.MANUAL\n",
    "    prox.http_proxy = ip\n",
    "    prox.socks_proxy = ip\n",
    "    prox.ssl_proxy = ip\n",
    "\n",
    "    capabilities = webdriver.DesiredCapabilities.CHROME\n",
    "    prox.add_to_capabilities(capabilities)\n",
    "\n",
    "    driver = webdriver.Chrome(desired_capabilities=capabilities)\n",
    "    driver.get(url_page)\n",
    "    time.sleep(1)\n",
    "    driver.close()\n",
    "    print(str(idx)+\"번째 작업 완료..\")"
   ]
  },
  {
   "cell_type": "code",
   "execution_count": null,
   "metadata": {},
   "outputs": [],
   "source": []
  }
 ],
 "metadata": {
  "kernelspec": {
   "display_name": "Python 3",
   "language": "python",
   "name": "python3"
  },
  "language_info": {
   "codemirror_mode": {
    "name": "ipython",
    "version": 3
   },
   "file_extension": ".py",
   "mimetype": "text/x-python",
   "name": "python",
   "nbconvert_exporter": "python",
   "pygments_lexer": "ipython3",
   "version": "3.6.4"
  }
 },
 "nbformat": 4,
 "nbformat_minor": 2
}
